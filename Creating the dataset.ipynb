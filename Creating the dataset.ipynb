{
  "cells": [
    {
      "cell_type": "markdown",
      "id": "9f2dd901",
      "metadata": {
        "id": "9f2dd901"
      },
      "source": [
        "### Jupyter Notebook To Create The New Aggregation Scheme"
      ]
    },
    {
      "cell_type": "code",
      "execution_count": null,
      "id": "a297a464",
      "metadata": {
        "id": "a297a464"
      },
      "outputs": [],
      "source": [
        "import time\n",
        "import pandas as pd"
      ]
    },
    {
      "cell_type": "code",
      "execution_count": null,
      "id": "ce983dab",
      "metadata": {
        "id": "ce983dab"
      },
      "outputs": [],
      "source": [
        "def add_unique_id(df):\n",
        "    df = df.copy(deep=True)\n",
        "    unique_ids = []\n",
        "    for i in range(len(df)):\n",
        "        crnt_id = str(df['sub'][i])+\"_\"+str(df['episode'][i])+\"_\"+str(df['segment'][i])\n",
        "        unique_ids.append(crnt_id)\n",
        "    df['unique_id'] = unique_ids\n",
        "    return df\n",
        "\n",
        "\n",
        "def add_unique_id_all(df_list):\n",
        "    for i in range(len(df_list)):\n",
        "        df_list[i] = add_unique_id(df_list[i])\n",
        "    return df_list\n",
        "\n",
        "\n",
        "def extract_statistics(column):\n",
        "    quantiles = list(column.quantile([0.1, 0.2, 0.3, 0.4, 0.5, 0.6, 0.7, 0.8, 0.9]))\n",
        "    mean = column.mean()\n",
        "    sd = column.std()\n",
        "    minimum = column.min()\n",
        "    maximum = column.max()\n",
        "    final_statistics = quantiles + [mean,sd,minimum,maximum]\n",
        "    return final_statistics\n",
        "\n",
        "\n",
        "\n",
        "def create_data_frame(input_data):\n",
        "    final_data = []\n",
        "    feature_names = [\"Feature_\"+str(n+1) for n in range(4992)]\n",
        "    original_features = [str(n) for n in range(384)]\n",
        "    all_ids = list(input_data['unique_id'].unique())\n",
        "    for j in range(len(all_ids)):\n",
        "        if j%50==0:\n",
        "            print(\"Unique: \"+str(j)+\"/\"+str(len(all_ids)))\n",
        "        crnt_data = input_data[input_data['unique_id']==all_ids[j]]\n",
        "        crnt_features = []\n",
        "        for f in original_features:\n",
        "            crnt_features = crnt_features + extract_statistics(crnt_data[f])\n",
        "        final_data.append(crnt_features)\n",
        "    final_dataframe = pd.DataFrame(final_data, columns=feature_names, index=all_ids)\n",
        "    return final_dataframe\n",
        "\n",
        "\n",
        "def create_all_dataframes(df_list):\n",
        "    names = ['subject 5','subject 6','subject 7','subject 8','subject 12','subject 15','subject 17','subject 18']\n",
        "    complete_dataframes = []\n",
        "    for i in range(len(df_list)):\n",
        "        start_time = time.time()\n",
        "        print(\"Creating Data for \"+str(names[i]))\n",
        "        complete_dataframes.append(create_data_frame(df_list[i]))\n",
        "        end_time = time.time()\n",
        "        elapsed_time = end_time - start_time\n",
        "        print(\"Time for \"+names[i]+\" :\"+str(elapsed_time))\n",
        "        print(\"Starting Cooldown for 2 minutes\")\n",
        "        time.sleep(120)\n",
        "        print(\"========================================================================\")\n",
        "    return complete_dataframes"
      ]
    },
    {
      "cell_type": "code",
      "execution_count": null,
      "id": "f127c8db",
      "metadata": {
        "id": "f127c8db"
      },
      "outputs": [],
      "source": [
        "Y_val_names = ['irritation','nostalgia','pride','relief','sadness','satisfaction','surprise',\n",
        "              'sympathy','triumph','arousal','valence','contempt','contentment','embarrassment',\n",
        "              'empathic_pain','envy','gratitude','disgust','disappointment','despair','admiration',\n",
        "              'amusement','aesthetic_appreciation','anger','anxiety','awe','calmness',\n",
        "              'confusion','excitement','fear','guilt','interest',\n",
        "              'joy','pleasure','romance','craving','entrancement','hope','boredom','adoration','jealousy'\n",
        "              ,'horror','sexual_desire']"
      ]
    },
    {
      "cell_type": "code",
      "execution_count": null,
      "id": "0bbf768f",
      "metadata": {
        "id": "0bbf768f"
      },
      "outputs": [],
      "source": [
        "sub5 = pd.read_csv(\"Y:\\Data Science Readings\\Applied Project Semester B\\Question 4\\sub-005_task-alltrain_desc-prosodyopenai--whisper-tinyLayer2ResSegRaw.csv\")\n",
        "sub6 = pd.read_csv(\"Y:\\Data Science Readings\\Applied Project Semester B\\Question 4\\sub-006_task-alltrain_desc-prosodyopenai--whisper-tinyLayer2ResSegRaw.csv\")\n",
        "sub7 = pd.read_csv(\"Y:\\Data Science Readings\\Applied Project Semester B\\Question 4\\sub-007_task-alltrain_desc-prosodyopenai--whisper-tinyLayer2ResSegRaw.csv\")\n",
        "sub8 = pd.read_csv(\"Y:\\Data Science Readings\\Applied Project Semester B\\Question 4\\sub-008_task-alltrain_desc-prosodyopenai--whisper-tinyLayer2ResSegRaw-002.csv\")\n",
        "sub12 = pd.read_csv(\"Y:\\Data Science Readings\\Applied Project Semester B\\Question 4\\sub-012_task-alltrain_desc-prosodyopenai--whisper-tinyLayer2ResSegRaw.csv\")\n",
        "sub15 = pd.read_csv(\"Y:\\Data Science Readings\\Applied Project Semester B\\Question 4\\sub-015_task-alltrain_desc-prosodyopenai--whisper-tinyLayer2ResSegRaw-004.csv\")\n",
        "sub17 = pd.read_csv(\"Y:\\Data Science Readings\\Applied Project Semester B\\Question 4\\sub-017_task-alltrain_desc-prosodyopenai--whisper-tinyLayer2ResSegRaw-001.csv\")\n",
        "sub18 = pd.read_csv(\"Y:\\Data Science Readings\\Applied Project Semester B\\Question 4\\sub-018_task-alltrain_desc-prosodyopenai--whisper-tinyLayer2ResSegRaw-003.csv\")"
      ]
    },
    {
      "cell_type": "code",
      "execution_count": null,
      "id": "4e543745",
      "metadata": {
        "id": "4e543745"
      },
      "outputs": [],
      "source": [
        "data_fromq1 = pd.read_csv(\"Y:\\\\Data Science Readings\\\\Applied Project Semester B\\\\final_data_merged.csv\")"
      ]
    },
    {
      "cell_type": "code",
      "execution_count": null,
      "id": "8ac86cef",
      "metadata": {
        "id": "8ac86cef"
      },
      "outputs": [],
      "source": [
        "sub_list  = [sub5,sub6,sub7,sub8,sub12,sub15,sub17,sub18]"
      ]
    },
    {
      "cell_type": "code",
      "execution_count": null,
      "id": "156107c2",
      "metadata": {
        "id": "156107c2"
      },
      "outputs": [],
      "source": [
        "preliminary_sub_list = [sub5,sub6]"
      ]
    },
    {
      "cell_type": "code",
      "execution_count": null,
      "id": "82cab224",
      "metadata": {
        "id": "82cab224",
        "outputId": "34b621c0-45d5-4037-a5c3-2cfeb0081a29"
      },
      "outputs": [
        {
          "data": {
            "text/plain": [
              "(432000, 388)"
            ]
          },
          "execution_count": 7,
          "metadata": {},
          "output_type": "execute_result"
        }
      ],
      "source": [
        "sub5.shape"
      ]
    },
    {
      "cell_type": "code",
      "execution_count": null,
      "id": "6c73e393",
      "metadata": {
        "scrolled": true,
        "id": "6c73e393",
        "outputId": "4ed5908a-12e6-4c9a-c483-78b60bbc44ac"
      },
      "outputs": [
        {
          "data": {
            "text/plain": [
              "(387000, 388)"
            ]
          },
          "execution_count": 8,
          "metadata": {},
          "output_type": "execute_result"
        }
      ],
      "source": [
        "sub6.shape"
      ]
    },
    {
      "cell_type": "code",
      "execution_count": null,
      "id": "e072d764",
      "metadata": {
        "id": "e072d764",
        "outputId": "df9b4ca5-d6b8-4b3e-9b95-2c9680c1d126"
      },
      "outputs": [
        {
          "data": {
            "text/plain": [
              "(436500, 388)"
            ]
          },
          "execution_count": 9,
          "metadata": {},
          "output_type": "execute_result"
        }
      ],
      "source": [
        "sub7.shape"
      ]
    },
    {
      "cell_type": "code",
      "execution_count": null,
      "id": "b940e843",
      "metadata": {
        "id": "b940e843",
        "outputId": "9356ee3c-9be2-473c-c974-dc9b04f7ac17"
      },
      "outputs": [
        {
          "data": {
            "text/plain": [
              "(597750, 388)"
            ]
          },
          "execution_count": 10,
          "metadata": {},
          "output_type": "execute_result"
        }
      ],
      "source": [
        "sub8.shape"
      ]
    },
    {
      "cell_type": "code",
      "execution_count": null,
      "id": "3c8cda4f",
      "metadata": {
        "id": "3c8cda4f",
        "outputId": "a5bd545e-1c49-46ce-a865-933ee62eea9c"
      },
      "outputs": [
        {
          "data": {
            "text/plain": [
              "(401250, 388)"
            ]
          },
          "execution_count": 11,
          "metadata": {},
          "output_type": "execute_result"
        }
      ],
      "source": [
        "sub12.shape"
      ]
    },
    {
      "cell_type": "code",
      "execution_count": null,
      "id": "8ceb4173",
      "metadata": {
        "id": "8ceb4173",
        "outputId": "af8171a6-a7ff-4bb9-950a-a40307c5b47c"
      },
      "outputs": [
        {
          "data": {
            "text/plain": [
              "(534000, 388)"
            ]
          },
          "execution_count": 12,
          "metadata": {},
          "output_type": "execute_result"
        }
      ],
      "source": [
        "sub15.shape"
      ]
    },
    {
      "cell_type": "code",
      "execution_count": null,
      "id": "7e8ae4e1",
      "metadata": {
        "id": "7e8ae4e1",
        "outputId": "b7dfb8f8-f169-463f-cf1f-d8a10a33c022"
      },
      "outputs": [
        {
          "data": {
            "text/plain": [
              "(555750, 388)"
            ]
          },
          "execution_count": 13,
          "metadata": {},
          "output_type": "execute_result"
        }
      ],
      "source": [
        "sub17.shape"
      ]
    },
    {
      "cell_type": "code",
      "execution_count": null,
      "id": "25e459f5",
      "metadata": {
        "id": "25e459f5",
        "outputId": "07933525-7aa6-4312-8fac-7e6fcbe3042f"
      },
      "outputs": [
        {
          "data": {
            "text/plain": [
              "(593250, 388)"
            ]
          },
          "execution_count": 14,
          "metadata": {},
          "output_type": "execute_result"
        }
      ],
      "source": [
        "sub18.shape"
      ]
    },
    {
      "cell_type": "code",
      "execution_count": null,
      "id": "176260a2",
      "metadata": {
        "id": "176260a2",
        "outputId": "2daaa9f6-68b8-47a2-8143-a1fb98567cda"
      },
      "outputs": [
        {
          "data": {
            "text/plain": [
              "3937500"
            ]
          },
          "execution_count": 15,
          "metadata": {},
          "output_type": "execute_result"
        }
      ],
      "source": [
        "sub5.shape[0]+sub6.shape[0]+sub7.shape[0]+sub8.shape[0]+sub12.shape[0]+sub15.shape[0]+sub17.shape[0]+sub18.shape[0]"
      ]
    },
    {
      "cell_type": "markdown",
      "id": "6cf5b601",
      "metadata": {
        "id": "6cf5b601"
      },
      "source": [
        "### Starting Data Aggregation Step:"
      ]
    },
    {
      "cell_type": "code",
      "execution_count": null,
      "id": "8fc34ae5",
      "metadata": {
        "id": "8fc34ae5"
      },
      "outputs": [],
      "source": [
        "sub_list = add_unique_id_all(sub_list)"
      ]
    },
    {
      "cell_type": "code",
      "execution_count": null,
      "id": "b7cdcfb0",
      "metadata": {
        "id": "b7cdcfb0",
        "outputId": "654074c3-ace2-4fd8-ee12-dba50929cd7f"
      },
      "outputs": [
        {
          "name": "stdout",
          "output_type": "stream",
          "text": [
            "Creating Data for subject 5\n",
            "Unique: 0/576\n",
            "Unique: 50/576\n",
            "Unique: 100/576\n",
            "Unique: 150/576\n",
            "Unique: 200/576\n",
            "Unique: 250/576\n",
            "Unique: 300/576\n",
            "Unique: 350/576\n",
            "Unique: 400/576\n",
            "Unique: 450/576\n",
            "Unique: 500/576\n",
            "Unique: 550/576\n",
            "Time for subject 5 :168.17377877235413\n",
            "Starting Cooldown for 2 minutes\n",
            "========================================================================\n",
            "Creating Data for subject 6\n",
            "Unique: 0/516\n",
            "Unique: 50/516\n",
            "Unique: 100/516\n",
            "Unique: 150/516\n",
            "Unique: 200/516\n",
            "Unique: 250/516\n",
            "Unique: 300/516\n",
            "Unique: 350/516\n",
            "Unique: 400/516\n",
            "Unique: 450/516\n",
            "Unique: 500/516\n",
            "Time for subject 6 :143.60149383544922\n",
            "Starting Cooldown for 2 minutes\n",
            "========================================================================\n",
            "Creating Data for subject 7\n",
            "Unique: 0/582\n",
            "Unique: 50/582\n",
            "Unique: 100/582\n",
            "Unique: 150/582\n",
            "Unique: 200/582\n",
            "Unique: 250/582\n",
            "Unique: 300/582\n",
            "Unique: 350/582\n",
            "Unique: 400/582\n",
            "Unique: 450/582\n",
            "Unique: 500/582\n",
            "Unique: 550/582\n",
            "Time for subject 7 :164.119366645813\n",
            "Starting Cooldown for 2 minutes\n",
            "========================================================================\n",
            "Creating Data for subject 8\n",
            "Unique: 0/797\n",
            "Unique: 50/797\n",
            "Unique: 100/797\n",
            "Unique: 150/797\n",
            "Unique: 200/797\n",
            "Unique: 250/797\n",
            "Unique: 300/797\n",
            "Unique: 350/797\n",
            "Unique: 400/797\n",
            "Unique: 450/797\n",
            "Unique: 500/797\n",
            "Unique: 550/797\n",
            "Unique: 600/797\n",
            "Unique: 650/797\n",
            "Unique: 700/797\n",
            "Unique: 750/797\n",
            "Time for subject 8 :234.52571558952332\n",
            "Starting Cooldown for 2 minutes\n",
            "========================================================================\n",
            "Creating Data for subject 12\n",
            "Unique: 0/535\n",
            "Unique: 50/535\n",
            "Unique: 100/535\n",
            "Unique: 150/535\n",
            "Unique: 200/535\n",
            "Unique: 250/535\n",
            "Unique: 300/535\n",
            "Unique: 350/535\n",
            "Unique: 400/535\n",
            "Unique: 450/535\n",
            "Unique: 500/535\n",
            "Time for subject 12 :153.41856455802917\n",
            "Starting Cooldown for 2 minutes\n",
            "========================================================================\n",
            "Creating Data for subject 15\n",
            "Unique: 0/712\n",
            "Unique: 50/712\n",
            "Unique: 100/712\n",
            "Unique: 150/712\n",
            "Unique: 200/712\n",
            "Unique: 250/712\n",
            "Unique: 300/712\n",
            "Unique: 350/712\n",
            "Unique: 400/712\n",
            "Unique: 450/712\n",
            "Unique: 500/712\n",
            "Unique: 550/712\n",
            "Unique: 600/712\n",
            "Unique: 650/712\n",
            "Unique: 700/712\n",
            "Time for subject 15 :206.43732857704163\n",
            "Starting Cooldown for 2 minutes\n",
            "========================================================================\n",
            "Creating Data for subject 17\n",
            "Unique: 0/741\n",
            "Unique: 50/741\n",
            "Unique: 100/741\n",
            "Unique: 150/741\n",
            "Unique: 200/741\n",
            "Unique: 250/741\n",
            "Unique: 300/741\n",
            "Unique: 350/741\n",
            "Unique: 400/741\n",
            "Unique: 450/741\n",
            "Unique: 500/741\n",
            "Unique: 550/741\n",
            "Unique: 600/741\n",
            "Unique: 650/741\n",
            "Unique: 700/741\n",
            "Time for subject 17 :217.17675852775574\n",
            "Starting Cooldown for 2 minutes\n",
            "========================================================================\n",
            "Creating Data for subject 18\n",
            "Unique: 0/791\n",
            "Unique: 50/791\n",
            "Unique: 100/791\n",
            "Unique: 150/791\n",
            "Unique: 200/791\n",
            "Unique: 250/791\n",
            "Unique: 300/791\n",
            "Unique: 350/791\n",
            "Unique: 400/791\n",
            "Unique: 450/791\n",
            "Unique: 500/791\n",
            "Unique: 550/791\n",
            "Unique: 600/791\n",
            "Unique: 650/791\n",
            "Unique: 700/791\n",
            "Unique: 750/791\n",
            "Time for subject 18 :238.7346851825714\n",
            "Starting Cooldown for 2 minutes\n",
            "========================================================================\n"
          ]
        }
      ],
      "source": [
        "sub_list = create_all_dataframes(sub_list)"
      ]
    },
    {
      "cell_type": "code",
      "execution_count": null,
      "id": "4572c2fe",
      "metadata": {
        "id": "4572c2fe"
      },
      "outputs": [],
      "source": [
        "completed_data = pd.concat(sub_list)"
      ]
    },
    {
      "cell_type": "code",
      "execution_count": null,
      "id": "cf84acc1",
      "metadata": {
        "id": "cf84acc1"
      },
      "outputs": [],
      "source": [
        "completed_data_backup = completed_data.copy(deep=True)"
      ]
    },
    {
      "cell_type": "code",
      "execution_count": null,
      "id": "8d0c294c",
      "metadata": {
        "id": "8d0c294c"
      },
      "outputs": [],
      "source": [
        "completed_data_work = completed_data.copy(deep=True)"
      ]
    },
    {
      "cell_type": "code",
      "execution_count": null,
      "id": "02bcf4ad",
      "metadata": {
        "id": "02bcf4ad"
      },
      "outputs": [],
      "source": [
        "data_from_semesterA = add_unique_id(data_fromq1)"
      ]
    },
    {
      "cell_type": "code",
      "execution_count": null,
      "id": "9fde871b",
      "metadata": {
        "id": "9fde871b"
      },
      "outputs": [],
      "source": [
        "data_from_semesterA_subset = data_from_semesterA[['unique_id']+Y_val_names]"
      ]
    },
    {
      "cell_type": "code",
      "execution_count": null,
      "id": "960c747c",
      "metadata": {
        "id": "960c747c",
        "outputId": "2ae56cdd-61f9-4300-b09a-03855df12f5e"
      },
      "outputs": [
        {
          "data": {
            "text/html": [
              "<div>\n",
              "<style scoped>\n",
              "    .dataframe tbody tr th:only-of-type {\n",
              "        vertical-align: middle;\n",
              "    }\n",
              "\n",
              "    .dataframe tbody tr th {\n",
              "        vertical-align: top;\n",
              "    }\n",
              "\n",
              "    .dataframe thead th {\n",
              "        text-align: right;\n",
              "    }\n",
              "</style>\n",
              "<table border=\"1\" class=\"dataframe\">\n",
              "  <thead>\n",
              "    <tr style=\"text-align: right;\">\n",
              "      <th></th>\n",
              "      <th>unique_id</th>\n",
              "      <th>irritation</th>\n",
              "      <th>nostalgia</th>\n",
              "      <th>pride</th>\n",
              "      <th>relief</th>\n",
              "      <th>sadness</th>\n",
              "      <th>satisfaction</th>\n",
              "      <th>surprise</th>\n",
              "      <th>sympathy</th>\n",
              "      <th>triumph</th>\n",
              "      <th>...</th>\n",
              "      <th>pleasure</th>\n",
              "      <th>romance</th>\n",
              "      <th>craving</th>\n",
              "      <th>entrancement</th>\n",
              "      <th>hope</th>\n",
              "      <th>boredom</th>\n",
              "      <th>adoration</th>\n",
              "      <th>jealousy</th>\n",
              "      <th>horror</th>\n",
              "      <th>sexual_desire</th>\n",
              "    </tr>\n",
              "  </thead>\n",
              "  <tbody>\n",
              "    <tr>\n",
              "      <th>0</th>\n",
              "      <td>sub-005_s01e01_1</td>\n",
              "      <td>0.791616</td>\n",
              "      <td>1.702135</td>\n",
              "      <td>2.877832</td>\n",
              "      <td>0.874105</td>\n",
              "      <td>0.769715</td>\n",
              "      <td>1.912958</td>\n",
              "      <td>0.916882</td>\n",
              "      <td>0.779931</td>\n",
              "      <td>0.794652</td>\n",
              "      <td>...</td>\n",
              "      <td>0.0</td>\n",
              "      <td>0.0</td>\n",
              "      <td>0.0</td>\n",
              "      <td>0.000000</td>\n",
              "      <td>0.000000</td>\n",
              "      <td>0.0</td>\n",
              "      <td>0.000000</td>\n",
              "      <td>0.0</td>\n",
              "      <td>0.000000</td>\n",
              "      <td>0.0</td>\n",
              "    </tr>\n",
              "    <tr>\n",
              "      <th>1</th>\n",
              "      <td>sub-005_s01e01_2</td>\n",
              "      <td>0.791616</td>\n",
              "      <td>1.702135</td>\n",
              "      <td>0.877832</td>\n",
              "      <td>0.874105</td>\n",
              "      <td>0.769715</td>\n",
              "      <td>0.912958</td>\n",
              "      <td>0.916882</td>\n",
              "      <td>2.779931</td>\n",
              "      <td>0.794652</td>\n",
              "      <td>...</td>\n",
              "      <td>0.0</td>\n",
              "      <td>0.0</td>\n",
              "      <td>0.0</td>\n",
              "      <td>0.000000</td>\n",
              "      <td>0.000000</td>\n",
              "      <td>0.0</td>\n",
              "      <td>0.000000</td>\n",
              "      <td>0.0</td>\n",
              "      <td>0.000000</td>\n",
              "      <td>0.0</td>\n",
              "    </tr>\n",
              "    <tr>\n",
              "      <th>2</th>\n",
              "      <td>sub-005_s01e01_3</td>\n",
              "      <td>0.791616</td>\n",
              "      <td>1.702135</td>\n",
              "      <td>0.877832</td>\n",
              "      <td>0.874105</td>\n",
              "      <td>0.769715</td>\n",
              "      <td>0.912958</td>\n",
              "      <td>0.916882</td>\n",
              "      <td>0.779931</td>\n",
              "      <td>0.794652</td>\n",
              "      <td>...</td>\n",
              "      <td>0.0</td>\n",
              "      <td>0.0</td>\n",
              "      <td>0.0</td>\n",
              "      <td>0.000000</td>\n",
              "      <td>0.000000</td>\n",
              "      <td>0.0</td>\n",
              "      <td>0.000000</td>\n",
              "      <td>0.0</td>\n",
              "      <td>0.000000</td>\n",
              "      <td>0.0</td>\n",
              "    </tr>\n",
              "    <tr>\n",
              "      <th>3</th>\n",
              "      <td>sub-005_s01e01_4</td>\n",
              "      <td>1.791616</td>\n",
              "      <td>1.702135</td>\n",
              "      <td>0.877832</td>\n",
              "      <td>0.874105</td>\n",
              "      <td>0.769715</td>\n",
              "      <td>0.912958</td>\n",
              "      <td>1.916882</td>\n",
              "      <td>1.779931</td>\n",
              "      <td>0.794652</td>\n",
              "      <td>...</td>\n",
              "      <td>0.0</td>\n",
              "      <td>0.0</td>\n",
              "      <td>0.0</td>\n",
              "      <td>0.000000</td>\n",
              "      <td>0.000000</td>\n",
              "      <td>0.0</td>\n",
              "      <td>0.000000</td>\n",
              "      <td>0.0</td>\n",
              "      <td>0.000000</td>\n",
              "      <td>0.0</td>\n",
              "    </tr>\n",
              "    <tr>\n",
              "      <th>4</th>\n",
              "      <td>sub-005_s01e01_5</td>\n",
              "      <td>1.791616</td>\n",
              "      <td>0.702135</td>\n",
              "      <td>0.877832</td>\n",
              "      <td>0.874105</td>\n",
              "      <td>0.769715</td>\n",
              "      <td>0.912958</td>\n",
              "      <td>1.916882</td>\n",
              "      <td>0.779931</td>\n",
              "      <td>0.794652</td>\n",
              "      <td>...</td>\n",
              "      <td>0.0</td>\n",
              "      <td>0.0</td>\n",
              "      <td>0.0</td>\n",
              "      <td>0.000000</td>\n",
              "      <td>0.000000</td>\n",
              "      <td>0.0</td>\n",
              "      <td>0.000000</td>\n",
              "      <td>0.0</td>\n",
              "      <td>0.000000</td>\n",
              "      <td>0.0</td>\n",
              "    </tr>\n",
              "    <tr>\n",
              "      <th>...</th>\n",
              "      <td>...</td>\n",
              "      <td>...</td>\n",
              "      <td>...</td>\n",
              "      <td>...</td>\n",
              "      <td>...</td>\n",
              "      <td>...</td>\n",
              "      <td>...</td>\n",
              "      <td>...</td>\n",
              "      <td>...</td>\n",
              "      <td>...</td>\n",
              "      <td>...</td>\n",
              "      <td>...</td>\n",
              "      <td>...</td>\n",
              "      <td>...</td>\n",
              "      <td>...</td>\n",
              "      <td>...</td>\n",
              "      <td>...</td>\n",
              "      <td>...</td>\n",
              "      <td>...</td>\n",
              "      <td>...</td>\n",
              "      <td>...</td>\n",
              "    </tr>\n",
              "    <tr>\n",
              "      <th>6418</th>\n",
              "      <td>sub-022_s05e03p03_39</td>\n",
              "      <td>1.808872</td>\n",
              "      <td>0.666223</td>\n",
              "      <td>0.701531</td>\n",
              "      <td>2.711278</td>\n",
              "      <td>0.000000</td>\n",
              "      <td>0.000000</td>\n",
              "      <td>0.000000</td>\n",
              "      <td>0.000000</td>\n",
              "      <td>0.000000</td>\n",
              "      <td>...</td>\n",
              "      <td>0.0</td>\n",
              "      <td>0.0</td>\n",
              "      <td>0.0</td>\n",
              "      <td>0.760691</td>\n",
              "      <td>0.690604</td>\n",
              "      <td>0.0</td>\n",
              "      <td>4.644404</td>\n",
              "      <td>0.0</td>\n",
              "      <td>0.742458</td>\n",
              "      <td>0.0</td>\n",
              "    </tr>\n",
              "    <tr>\n",
              "      <th>6419</th>\n",
              "      <td>sub-022_s05e03p03_40</td>\n",
              "      <td>2.808872</td>\n",
              "      <td>0.666223</td>\n",
              "      <td>0.701531</td>\n",
              "      <td>2.711278</td>\n",
              "      <td>0.000000</td>\n",
              "      <td>0.000000</td>\n",
              "      <td>0.000000</td>\n",
              "      <td>0.000000</td>\n",
              "      <td>0.000000</td>\n",
              "      <td>...</td>\n",
              "      <td>0.0</td>\n",
              "      <td>0.0</td>\n",
              "      <td>0.0</td>\n",
              "      <td>0.760691</td>\n",
              "      <td>0.690604</td>\n",
              "      <td>0.0</td>\n",
              "      <td>2.644404</td>\n",
              "      <td>0.0</td>\n",
              "      <td>0.742458</td>\n",
              "      <td>0.0</td>\n",
              "    </tr>\n",
              "    <tr>\n",
              "      <th>6420</th>\n",
              "      <td>sub-022_s05e03p03_41</td>\n",
              "      <td>2.808872</td>\n",
              "      <td>0.666223</td>\n",
              "      <td>0.701531</td>\n",
              "      <td>3.711278</td>\n",
              "      <td>0.000000</td>\n",
              "      <td>0.000000</td>\n",
              "      <td>0.000000</td>\n",
              "      <td>0.000000</td>\n",
              "      <td>0.000000</td>\n",
              "      <td>...</td>\n",
              "      <td>0.0</td>\n",
              "      <td>0.0</td>\n",
              "      <td>0.0</td>\n",
              "      <td>0.760691</td>\n",
              "      <td>0.690604</td>\n",
              "      <td>0.0</td>\n",
              "      <td>4.644404</td>\n",
              "      <td>0.0</td>\n",
              "      <td>0.742458</td>\n",
              "      <td>0.0</td>\n",
              "    </tr>\n",
              "    <tr>\n",
              "      <th>6421</th>\n",
              "      <td>sub-022_s05e03p03_42</td>\n",
              "      <td>1.808872</td>\n",
              "      <td>0.666223</td>\n",
              "      <td>0.701531</td>\n",
              "      <td>4.711278</td>\n",
              "      <td>0.000000</td>\n",
              "      <td>0.000000</td>\n",
              "      <td>0.000000</td>\n",
              "      <td>0.000000</td>\n",
              "      <td>0.000000</td>\n",
              "      <td>...</td>\n",
              "      <td>0.0</td>\n",
              "      <td>0.0</td>\n",
              "      <td>0.0</td>\n",
              "      <td>0.760691</td>\n",
              "      <td>0.690604</td>\n",
              "      <td>0.0</td>\n",
              "      <td>3.644404</td>\n",
              "      <td>0.0</td>\n",
              "      <td>0.742458</td>\n",
              "      <td>0.0</td>\n",
              "    </tr>\n",
              "    <tr>\n",
              "      <th>6422</th>\n",
              "      <td>sub-022_s05e03p03_43</td>\n",
              "      <td>-0.191128</td>\n",
              "      <td>5.666223</td>\n",
              "      <td>3.701531</td>\n",
              "      <td>5.711278</td>\n",
              "      <td>0.000000</td>\n",
              "      <td>0.000000</td>\n",
              "      <td>0.000000</td>\n",
              "      <td>0.000000</td>\n",
              "      <td>0.000000</td>\n",
              "      <td>...</td>\n",
              "      <td>0.0</td>\n",
              "      <td>0.0</td>\n",
              "      <td>0.0</td>\n",
              "      <td>0.760691</td>\n",
              "      <td>3.690604</td>\n",
              "      <td>0.0</td>\n",
              "      <td>5.644404</td>\n",
              "      <td>0.0</td>\n",
              "      <td>0.742458</td>\n",
              "      <td>0.0</td>\n",
              "    </tr>\n",
              "  </tbody>\n",
              "</table>\n",
              "<p>6423 rows × 44 columns</p>\n",
              "</div>"
            ],
            "text/plain": [
              "                 unique_id  irritation  nostalgia     pride    relief  \\\n",
              "0         sub-005_s01e01_1    0.791616   1.702135  2.877832  0.874105   \n",
              "1         sub-005_s01e01_2    0.791616   1.702135  0.877832  0.874105   \n",
              "2         sub-005_s01e01_3    0.791616   1.702135  0.877832  0.874105   \n",
              "3         sub-005_s01e01_4    1.791616   1.702135  0.877832  0.874105   \n",
              "4         sub-005_s01e01_5    1.791616   0.702135  0.877832  0.874105   \n",
              "...                    ...         ...        ...       ...       ...   \n",
              "6418  sub-022_s05e03p03_39    1.808872   0.666223  0.701531  2.711278   \n",
              "6419  sub-022_s05e03p03_40    2.808872   0.666223  0.701531  2.711278   \n",
              "6420  sub-022_s05e03p03_41    2.808872   0.666223  0.701531  3.711278   \n",
              "6421  sub-022_s05e03p03_42    1.808872   0.666223  0.701531  4.711278   \n",
              "6422  sub-022_s05e03p03_43   -0.191128   5.666223  3.701531  5.711278   \n",
              "\n",
              "       sadness  satisfaction  surprise  sympathy   triumph  ...  pleasure  \\\n",
              "0     0.769715      1.912958  0.916882  0.779931  0.794652  ...       0.0   \n",
              "1     0.769715      0.912958  0.916882  2.779931  0.794652  ...       0.0   \n",
              "2     0.769715      0.912958  0.916882  0.779931  0.794652  ...       0.0   \n",
              "3     0.769715      0.912958  1.916882  1.779931  0.794652  ...       0.0   \n",
              "4     0.769715      0.912958  1.916882  0.779931  0.794652  ...       0.0   \n",
              "...        ...           ...       ...       ...       ...  ...       ...   \n",
              "6418  0.000000      0.000000  0.000000  0.000000  0.000000  ...       0.0   \n",
              "6419  0.000000      0.000000  0.000000  0.000000  0.000000  ...       0.0   \n",
              "6420  0.000000      0.000000  0.000000  0.000000  0.000000  ...       0.0   \n",
              "6421  0.000000      0.000000  0.000000  0.000000  0.000000  ...       0.0   \n",
              "6422  0.000000      0.000000  0.000000  0.000000  0.000000  ...       0.0   \n",
              "\n",
              "      romance  craving  entrancement      hope  boredom  adoration  jealousy  \\\n",
              "0         0.0      0.0      0.000000  0.000000      0.0   0.000000       0.0   \n",
              "1         0.0      0.0      0.000000  0.000000      0.0   0.000000       0.0   \n",
              "2         0.0      0.0      0.000000  0.000000      0.0   0.000000       0.0   \n",
              "3         0.0      0.0      0.000000  0.000000      0.0   0.000000       0.0   \n",
              "4         0.0      0.0      0.000000  0.000000      0.0   0.000000       0.0   \n",
              "...       ...      ...           ...       ...      ...        ...       ...   \n",
              "6418      0.0      0.0      0.760691  0.690604      0.0   4.644404       0.0   \n",
              "6419      0.0      0.0      0.760691  0.690604      0.0   2.644404       0.0   \n",
              "6420      0.0      0.0      0.760691  0.690604      0.0   4.644404       0.0   \n",
              "6421      0.0      0.0      0.760691  0.690604      0.0   3.644404       0.0   \n",
              "6422      0.0      0.0      0.760691  3.690604      0.0   5.644404       0.0   \n",
              "\n",
              "        horror  sexual_desire  \n",
              "0     0.000000            0.0  \n",
              "1     0.000000            0.0  \n",
              "2     0.000000            0.0  \n",
              "3     0.000000            0.0  \n",
              "4     0.000000            0.0  \n",
              "...        ...            ...  \n",
              "6418  0.742458            0.0  \n",
              "6419  0.742458            0.0  \n",
              "6420  0.742458            0.0  \n",
              "6421  0.742458            0.0  \n",
              "6422  0.742458            0.0  \n",
              "\n",
              "[6423 rows x 44 columns]"
            ]
          },
          "execution_count": 36,
          "metadata": {},
          "output_type": "execute_result"
        }
      ],
      "source": [
        "data_from_semesterA_subset"
      ]
    },
    {
      "cell_type": "code",
      "execution_count": null,
      "id": "2e1723ed",
      "metadata": {
        "id": "2e1723ed"
      },
      "outputs": [],
      "source": [
        "completed_data_work['unique_id'] = list(completed_data_work.index)"
      ]
    },
    {
      "cell_type": "code",
      "execution_count": null,
      "id": "3dd41823",
      "metadata": {
        "id": "3dd41823"
      },
      "outputs": [],
      "source": [
        "merged_df = pd.merge(completed_data_work, data_from_semesterA_subset, on='unique_id', how='inner')"
      ]
    },
    {
      "cell_type": "code",
      "execution_count": null,
      "id": "cf8bef51",
      "metadata": {
        "id": "cf8bef51"
      },
      "outputs": [],
      "source": [
        "merged_df.to_csv(\"Y:\\\\Data Science Readings\\\\Applied Project Semester B\\\\Question 4\\\\New_Aggregation_Data.csv\")"
      ]
    }
  ],
  "metadata": {
    "kernelspec": {
      "display_name": "Python 3 (ipykernel)",
      "language": "python",
      "name": "python3"
    },
    "language_info": {
      "codemirror_mode": {
        "name": "ipython",
        "version": 3
      },
      "file_extension": ".py",
      "mimetype": "text/x-python",
      "name": "python",
      "nbconvert_exporter": "python",
      "pygments_lexer": "ipython3",
      "version": "3.9.7"
    },
    "colab": {
      "provenance": []
    }
  },
  "nbformat": 4,
  "nbformat_minor": 5
}